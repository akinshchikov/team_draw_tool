{
 "cells": [
  {
   "cell_type": "code",
   "execution_count": 1,
   "metadata": {
    "ExecuteTime": {
     "end_time": "2023-05-17T04:32:51.906085027Z",
     "start_time": "2023-05-17T04:32:51.627441998Z"
    }
   },
   "outputs": [],
   "source": [
    "from main import make_team_draw\n"
   ]
  },
  {
   "cell_type": "code",
   "execution_count": 2,
   "metadata": {
    "ExecuteTime": {
     "end_time": "2023-05-17T04:32:51.979048579Z",
     "start_time": "2023-05-17T04:32:51.910396627Z"
    },
    "collapsed": false,
    "jupyter": {
     "outputs_hidden": false
    }
   },
   "outputs": [],
   "source": [
    "make_team_draw('draws/economic_j')\n",
    "make_team_draw('draws/economic_p')\n",
    "\n",
    "make_team_draw('draws/sipo_j')\n",
    "make_team_draw('draws/sipo_p')\n"
   ]
  }
 ],
 "metadata": {
  "kernelspec": {
   "display_name": "Python 3.10 (ipykernel)",
   "language": "python",
   "name": "python3.10"
  },
  "language_info": {
   "codemirror_mode": {
    "name": "ipython",
    "version": 3
   },
   "file_extension": ".py",
   "mimetype": "text/x-python",
   "name": "python",
   "nbconvert_exporter": "python",
   "pygments_lexer": "ipython3",
   "version": "3.10.10"
  }
 },
 "nbformat": 4,
 "nbformat_minor": 4
}
